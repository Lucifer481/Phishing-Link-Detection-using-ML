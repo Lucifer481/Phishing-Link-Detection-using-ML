{
 "cells": [
  {
   "cell_type": "code",
   "execution_count": null,
   "id": "048b9ce9",
   "metadata": {
    "vscode": {
     "languageId": "plaintext"
    }
   },
   "outputs": [],
   "source": [
    "# Cell 1: Import\n",
    "from feature_extraction import extract_features\n",
    "import pandas as pd\n",
    "\n",
    "# Cell 2: Sample URL test\n",
    "urls = [\n",
    "    'http://example.com',\n",
    "    'http://login.secure-bank-update.tk',\n",
    "    'https://apple.com/verify?account=1'\n",
    "]\n",
    "\n",
    "features = [extract_features(url) for url in urls]\n",
    "pd.DataFrame(features)\n",
    "\n"
   ]
  }
 ],
 "metadata": {
  "language_info": {
   "name": "python"
  }
 },
 "nbformat": 4,
 "nbformat_minor": 5
}
