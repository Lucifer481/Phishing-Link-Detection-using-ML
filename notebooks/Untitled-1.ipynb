{
 "cells": [
  {
   "cell_type": "markdown",
   "id": "98a86ed5",
   "metadata": {},
   "source": [
    "# Import Libraries\n",
    "Import pandas for data manipulation, matplotlib for plotting, and seaborn for advanced visualizations."
   ]
  },
  {
   "cell_type": "code",
   "execution_count": null,
   "id": "72df4163",
   "metadata": {},
   "outputs": [],
   "source": [
    "import pandas as pd\n",
    "import matplotlib.pyplot as plt\n",
    "import seaborn as sns"
   ]
  },
  {
   "cell_type": "markdown",
   "id": "326dbcad",
   "metadata": {},
   "source": [
    "# Load Dataset\n",
    "Load the processed phishing detection dataset into a pandas DataFrame."
   ]
  },
  {
   "cell_type": "code",
   "execution_count": null,
   "id": "f2c670df",
   "metadata": {},
   "outputs": [],
   "source": [
    "df = pd.read_csv('../data/processed/dataset_features.csv')"
   ]
  },
  {
   "cell_type": "markdown",
   "id": "fd76b009",
   "metadata": {},
   "source": [
    "# Display First Rows\n",
    "Preview the first few rows of the dataset to understand its structure and contents."
   ]
  },
  {
   "cell_type": "code",
   "execution_count": null,
   "id": "aa47467f",
   "metadata": {},
   "outputs": [],
   "source": [
    "df.head()"
   ]
  },
  {
   "cell_type": "markdown",
   "id": "e15dee9d",
   "metadata": {},
   "source": [
    "# Show DataFrame Info\n",
    "Display information about the DataFrame, including column types and non-null counts."
   ]
  },
  {
   "cell_type": "code",
   "execution_count": null,
   "id": "16529356",
   "metadata": {},
   "outputs": [],
   "source": [
    "df.info()"
   ]
  },
  {
   "cell_type": "markdown",
   "id": "f94785a0",
   "metadata": {},
   "source": [
    "# Describe Dataset Statistics\n",
    "Show summary statistics for the numerical features in the dataset."
   ]
  },
  {
   "cell_type": "code",
   "execution_count": null,
   "id": "97a369a9",
   "metadata": {},
   "outputs": [],
   "source": [
    "df.describe()"
   ]
  },
  {
   "cell_type": "markdown",
   "id": "700b93fd",
   "metadata": {},
   "source": [
    "# Visualize Class Distribution\n",
    "Plot the distribution of the 'label' column to compare the number of legitimate and phishing samples."
   ]
  },
  {
   "cell_type": "code",
   "execution_count": null,
   "id": "b1a4e09f",
   "metadata": {},
   "outputs": [],
   "source": [
    "df['label'].value_counts().plot(kind='bar', title='Class Distribution')\n",
    "plt.xticks([0, 1], ['Legitimate', 'Phishing'])\n",
    "plt.xlabel('Class')\n",
    "plt.ylabel('Count')\n",
    "plt.show()"
   ]
  },
  {
   "cell_type": "markdown",
   "id": "a10f451d",
   "metadata": {},
   "source": [
    "# Plot Feature Correlation Heatmap\n",
    "Visualize the correlation between numerical features (excluding the 'url' column) using a heatmap."
   ]
  },
  {
   "cell_type": "code",
   "execution_count": null,
   "id": "40b85c04",
   "metadata": {},
   "outputs": [],
   "source": [
    "sns.heatmap(df.drop(columns=['url']).corr(), cmap='coolwarm', annot=True)\n",
    "plt.title('Feature Correlation Heatmap')\n",
    "plt.show()"
   ]
  }
 ],
 "metadata": {
  "kernelspec": {
   "display_name": "Python 3",
   "language": "python",
   "name": "python3"
  },
  "language_info": {
   "name": "python",
   "version": "3.11.6"
  }
 },
 "nbformat": 4,
 "nbformat_minor": 5
}
