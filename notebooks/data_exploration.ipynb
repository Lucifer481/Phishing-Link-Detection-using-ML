{
 "cells": [
  {
   "cell_type": "code",
   "execution_count": null,
   "id": "94e95589",
   "metadata": {
    "vscode": {
     "languageId": "plaintext"
    }
   },
   "outputs": [],
   "source": [
    "# Cell 1: Import libraries\n",
    "import pandas as pd\n",
    "import matplotlib.pyplot as plt\n",
    "import seaborn as sns\n",
    "\n",
    "# Cell 2: Load data\n",
    "df = pd.read_csv('../data/processed/dataset_features.csv')\n",
    "df.head()\n",
    "\n",
    "# Cell 3: Basic info\n",
    "df.info()\n",
    "\n",
    "# Cell 4: Describe data\n",
    "df.describe()\n",
    "\n",
    "# Cell 5: Class distribution\n",
    "df['label'].value_counts().plot(kind='bar', title='Class Distribution')\n",
    "plt.xticks([0, 1], ['Legitimate', 'Phishing'])\n",
    "plt.show()\n",
    "\n",
    "# Cell 6: Correlation heatmap\n",
    "sns.heatmap(df.drop(columns=['url']).corr(), cmap='coolwarm', annot=True)\n",
    "plt.title('Feature Correlation Heatmap')\n",
    "plt.show()\n"
   ]
  }
 ],
 "metadata": {
  "language_info": {
   "name": "python"
  }
 },
 "nbformat": 4,
 "nbformat_minor": 5
}
